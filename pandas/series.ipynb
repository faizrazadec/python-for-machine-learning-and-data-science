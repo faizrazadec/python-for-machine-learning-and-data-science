{
 "cells": [
  {
   "cell_type": "markdown",
   "id": "808b31fe",
   "metadata": {},
   "source": [
    "# Series"
   ]
  },
  {
   "cell_type": "markdown",
   "id": "64929dd1",
   "metadata": {},
   "source": [
    "First of all, import the required libraries"
   ]
  },
  {
   "cell_type": "code",
   "execution_count": 1,
   "id": "3eaeff77",
   "metadata": {},
   "outputs": [],
   "source": [
    "import numpy as np\n",
    "import pandas as pd"
   ]
  },
  {
   "cell_type": "markdown",
   "id": "c3aeaf89",
   "metadata": {},
   "source": [
    "help() will show us the comprehensive detailed about pandas Series"
   ]
  },
  {
   "cell_type": "code",
   "execution_count": 51,
   "id": "c9cc2d9f",
   "metadata": {},
   "outputs": [],
   "source": [
    "# help(pd.Series)"
   ]
  },
  {
   "cell_type": "code",
   "execution_count": 5,
   "id": "968db46e",
   "metadata": {},
   "outputs": [],
   "source": [
    "mydata = [12, 23, 43]"
   ]
  },
  {
   "cell_type": "code",
   "execution_count": 6,
   "id": "80432971",
   "metadata": {},
   "outputs": [],
   "source": [
    "mylab = ['faiz', 'raza', 'ali']"
   ]
  },
  {
   "cell_type": "code",
   "execution_count": 7,
   "id": "d0a8b587",
   "metadata": {},
   "outputs": [],
   "source": [
    "myser = pd.Series(data = mydata)"
   ]
  },
  {
   "cell_type": "markdown",
   "id": "7a248dee",
   "metadata": {},
   "source": [
    "here you can see that, our data is connverted into Series which is nothing but one dimentional array with index, we didn't\n",
    "provide the labeled index, so default index is numeric"
   ]
  },
  {
   "cell_type": "code",
   "execution_count": 8,
   "id": "0e6aba32",
   "metadata": {},
   "outputs": [
    {
     "data": {
      "text/plain": [
       "0    12\n",
       "1    23\n",
       "2    43\n",
       "dtype: int64"
      ]
     },
     "execution_count": 8,
     "metadata": {},
     "output_type": "execute_result"
    }
   ],
   "source": [
    "myser"
   ]
  },
  {
   "cell_type": "code",
   "execution_count": 9,
   "id": "147c4787",
   "metadata": {},
   "outputs": [
    {
     "data": {
      "text/plain": [
       "pandas.core.series.Series"
      ]
     },
     "execution_count": 9,
     "metadata": {},
     "output_type": "execute_result"
    }
   ],
   "source": [
    "type(myser)"
   ]
  },
  {
   "cell_type": "code",
   "execution_count": 10,
   "id": "43b0f2dc",
   "metadata": {},
   "outputs": [
    {
     "data": {
      "text/plain": [
       "list"
      ]
     },
     "execution_count": 10,
     "metadata": {},
     "output_type": "execute_result"
    }
   ],
   "source": [
    "type(mydata)"
   ]
  },
  {
   "cell_type": "markdown",
   "id": "b835ca20",
   "metadata": {},
   "source": [
    "let's now see the Series with labeled indexing, we just have to add the labeled index, after the data inside the pd.Series()"
   ]
  },
  {
   "cell_type": "code",
   "execution_count": 11,
   "id": "a5b9a216",
   "metadata": {},
   "outputs": [],
   "source": [
    "myser = pd.Series(data = mydata, index = mylab)"
   ]
  },
  {
   "cell_type": "code",
   "execution_count": 12,
   "id": "f88e7305",
   "metadata": {},
   "outputs": [
    {
     "data": {
      "text/plain": [
       "faiz    12\n",
       "raza    23\n",
       "ali     43\n",
       "dtype: int64"
      ]
     },
     "execution_count": 12,
     "metadata": {},
     "output_type": "execute_result"
    }
   ],
   "source": [
    "myser"
   ]
  },
  {
   "cell_type": "markdown",
   "id": "54cf50c9",
   "metadata": {},
   "source": [
    "##### Series from dict"
   ]
  },
  {
   "cell_type": "markdown",
   "id": "133b504b",
   "metadata": {},
   "source": [
    "we can also create the series using the dictionary, we just have to insert the dicct into the Seires as below"
   ]
  },
  {
   "cell_type": "code",
   "execution_count": 13,
   "id": "193ca6af",
   "metadata": {},
   "outputs": [],
   "source": [
    "mydict = {'faiz':20,\n",
    "         'raza': 30,\n",
    "         'ali': 303}"
   ]
  },
  {
   "cell_type": "code",
   "execution_count": 14,
   "id": "92336256",
   "metadata": {},
   "outputs": [],
   "source": [
    "myser = pd.Series(mydict)"
   ]
  },
  {
   "cell_type": "code",
   "execution_count": 15,
   "id": "37a8c709",
   "metadata": {},
   "outputs": [
    {
     "data": {
      "text/plain": [
       "faiz     20\n",
       "raza     30\n",
       "ali     303\n",
       "dtype: int64"
      ]
     },
     "execution_count": 15,
     "metadata": {},
     "output_type": "execute_result"
    }
   ],
   "source": [
    "myser"
   ]
  },
  {
   "cell_type": "markdown",
   "id": "038c99cc",
   "metadata": {},
   "source": [
    "let's do some opetations on the Series that we just learned now"
   ]
  },
  {
   "cell_type": "code",
   "execution_count": 17,
   "id": "ce19e18c",
   "metadata": {},
   "outputs": [],
   "source": [
    "# Creating a dictionary with some fictional data\n",
    "sample_dict = {\n",
    "    'name': 'John Doe',\n",
    "    'age': 30,\n",
    "    'city': 'Exampleville',\n",
    "    'email': 'john.doe@example.com',\n",
    "    'is_student': False,\n",
    "    'grades': {'math': 90, 'english': 85, 'history': 78},\n",
    "    'hobbies': ['reading', 'hiking', 'photography']\n",
    "}\n",
    "# Creating another dictionary with fictional data\n",
    "another_dict = {\n",
    "    'name': 'Jane Smith',\n",
    "    'age': 25,\n",
    "    'city': 'Wonderland',\n",
    "    'email': 'jane.smith@example.com',\n",
    "    'is_student': True,\n",
    "    'grades': {'math': 95, 'english': 88, 'history': 92},\n",
    "    'hobbies': ['painting', 'traveling', 'playing guitar'],\n",
    "    'address': {\n",
    "        'street': '123 Dream Street',\n",
    "        'zipcode': '45678',\n",
    "        'state': 'Fantasyland'\n",
    "    }\n",
    "}"
   ]
  },
  {
   "cell_type": "code",
   "execution_count": 21,
   "id": "60a0137f",
   "metadata": {},
   "outputs": [],
   "source": [
    "sample_dict_ser = pd.Series(sample_dict)\n",
    "another_dict_ser = pd.Series(another_dict)"
   ]
  },
  {
   "cell_type": "markdown",
   "id": "6857e38f",
   "metadata": {},
   "source": [
    "here we can see that, the dictionary is transformed into series, using pandas"
   ]
  },
  {
   "cell_type": "code",
   "execution_count": 24,
   "id": "3645e096",
   "metadata": {},
   "outputs": [
    {
     "name": "stdout",
     "output_type": "stream",
     "text": [
      "name                                            John Doe\n",
      "age                                                   30\n",
      "city                                        Exampleville\n",
      "email                               john.doe@example.com\n",
      "is_student                                         False\n",
      "grades        {'math': 90, 'english': 85, 'history': 78}\n",
      "hobbies                   [reading, hiking, photography]\n",
      "dtype: object\n"
     ]
    }
   ],
   "source": [
    "print(sample_dict_ser)"
   ]
  },
  {
   "cell_type": "code",
   "execution_count": 23,
   "id": "c80f5e72",
   "metadata": {},
   "outputs": [
    {
     "data": {
      "text/plain": [
       "name                                                 Jane Smith\n",
       "age                                                          25\n",
       "city                                                 Wonderland\n",
       "email                                    jane.smith@example.com\n",
       "is_student                                                 True\n",
       "grades               {'math': 95, 'english': 88, 'history': 92}\n",
       "hobbies                   [painting, traveling, playing guitar]\n",
       "address       {'street': '123 Dream Street', 'zipcode': '456...\n",
       "dtype: object"
      ]
     },
     "execution_count": 23,
     "metadata": {},
     "output_type": "execute_result"
    }
   ],
   "source": [
    "another_dict_ser"
   ]
  },
  {
   "cell_type": "markdown",
   "id": "ffca817c",
   "metadata": {},
   "source": [
    "we can grab the info using the label as well as numeric index, let's see how to do that"
   ]
  },
  {
   "cell_type": "code",
   "execution_count": 25,
   "id": "744a847f",
   "metadata": {},
   "outputs": [
    {
     "data": {
      "text/plain": [
       "'jane.smith@example.com'"
      ]
     },
     "execution_count": 25,
     "metadata": {},
     "output_type": "execute_result"
    }
   ],
   "source": [
    "another_dict_ser[3]"
   ]
  },
  {
   "cell_type": "markdown",
   "id": "7e4c8912",
   "metadata": {},
   "source": [
    "when you're using the labeled index, you have to keep in mind that, insert the correct key name of the dict to grab the value,\n",
    "to see the keys, use the below code"
   ]
  },
  {
   "cell_type": "code",
   "execution_count": 28,
   "id": "8121a77b",
   "metadata": {},
   "outputs": [
    {
     "data": {
      "text/plain": [
       "dict_keys(['name', 'age', 'city', 'email', 'is_student', 'grades', 'hobbies', 'address'])"
      ]
     },
     "execution_count": 28,
     "metadata": {},
     "output_type": "execute_result"
    }
   ],
   "source": [
    "keys = another_dict.keys()\n",
    "keys"
   ]
  },
  {
   "cell_type": "code",
   "execution_count": 26,
   "id": "26440545",
   "metadata": {},
   "outputs": [
    {
     "data": {
      "text/plain": [
       "{'street': '123 Dream Street', 'zipcode': '45678', 'state': 'Fantasyland'}"
      ]
     },
     "execution_count": 26,
     "metadata": {},
     "output_type": "execute_result"
    }
   ],
   "source": [
    "another_dict_ser[\"address\"]"
   ]
  },
  {
   "cell_type": "markdown",
   "id": "b14ddfd9",
   "metadata": {},
   "source": [
    "##### broadcasting"
   ]
  },
  {
   "cell_type": "markdown",
   "id": "748fd039",
   "metadata": {},
   "source": [
    "just like numpy, pandas shows us broad casting behviour, which means that it do operation on elements not like list, lets' see \n",
    "what it means, to calarify it."
   ]
  },
  {
   "cell_type": "code",
   "execution_count": 38,
   "id": "a1d0378d",
   "metadata": {},
   "outputs": [],
   "source": [
    "# Creating a dictionary with numeric values\n",
    "numeric_dict1 = {\n",
    "    'population': 1000000,\n",
    "    'area': 5000,\n",
    "    'gdp': 75000000000,\n",
    "    'happiness_index': 7.8,\n",
    "    'unemployment_rate': 5.2\n",
    "}\n",
    "\n",
    "# Creating another dictionary with numeric values\n",
    "numeric_dict2 = {\n",
    "    'population': 500000,\n",
    "    'area_sq_km': 2500,\n",
    "    'gdp': 40000000000,\n",
    "    'happiness_index': 6.5,\n",
    "    'unemployment_rate': 8.3\n",
    "}"
   ]
  },
  {
   "cell_type": "code",
   "execution_count": 39,
   "id": "067486d5",
   "metadata": {},
   "outputs": [],
   "source": [
    "numeric_dict1_ser = pd.Series(numeric_dict1)\n",
    "numeric_dict2_ser = pd.Series(numeric_dict2)"
   ]
  },
  {
   "cell_type": "code",
   "execution_count": 40,
   "id": "8b21ce24",
   "metadata": {},
   "outputs": [
    {
     "data": {
      "text/plain": [
       "population           1.000000e+06\n",
       "area                 5.000000e+03\n",
       "gdp                  7.500000e+10\n",
       "happiness_index      7.800000e+00\n",
       "unemployment_rate    5.200000e+00\n",
       "dtype: float64"
      ]
     },
     "execution_count": 40,
     "metadata": {},
     "output_type": "execute_result"
    }
   ],
   "source": [
    "numeric_dict1_ser"
   ]
  },
  {
   "cell_type": "code",
   "execution_count": 41,
   "id": "46e487e2",
   "metadata": {},
   "outputs": [
    {
     "data": {
      "text/plain": [
       "population           5.000000e+05\n",
       "area_sq_km           2.500000e+03\n",
       "gdp                  4.000000e+10\n",
       "happiness_index      6.500000e+00\n",
       "unemployment_rate    8.300000e+00\n",
       "dtype: float64"
      ]
     },
     "execution_count": 41,
     "metadata": {},
     "output_type": "execute_result"
    }
   ],
   "source": [
    "numeric_dict2_ser"
   ]
  },
  {
   "cell_type": "markdown",
   "id": "7ee27e0c",
   "metadata": {},
   "source": [
    "list don't show the broad casting behaviour, this is what i mean"
   ]
  },
  {
   "cell_type": "code",
   "execution_count": 42,
   "id": "702aa887",
   "metadata": {},
   "outputs": [
    {
     "data": {
      "text/plain": [
       "[2, 1, 2, 1]"
      ]
     },
     "execution_count": 42,
     "metadata": {},
     "output_type": "execute_result"
    }
   ],
   "source": [
    "[2,1] * 2"
   ]
  },
  {
   "cell_type": "markdown",
   "id": "0b0b8916",
   "metadata": {},
   "source": [
    "but pandas do"
   ]
  },
  {
   "cell_type": "code",
   "execution_count": 43,
   "id": "e6e0cb92",
   "metadata": {},
   "outputs": [
    {
     "data": {
      "text/plain": [
       "population           2.000000e+06\n",
       "area                 1.000000e+04\n",
       "gdp                  1.500000e+11\n",
       "happiness_index      1.560000e+01\n",
       "unemployment_rate    1.040000e+01\n",
       "dtype: float64"
      ]
     },
     "execution_count": 43,
     "metadata": {},
     "output_type": "execute_result"
    }
   ],
   "source": [
    "numeric_dict1_ser*2"
   ]
  },
  {
   "cell_type": "code",
   "execution_count": 44,
   "id": "59b78b43",
   "metadata": {},
   "outputs": [
    {
     "data": {
      "text/plain": [
       "population           1.000000e+03\n",
       "area                 5.000000e+00\n",
       "gdp                  7.500000e+07\n",
       "happiness_index      7.800000e-03\n",
       "unemployment_rate    5.200000e-03\n",
       "dtype: float64"
      ]
     },
     "execution_count": 44,
     "metadata": {},
     "output_type": "execute_result"
    }
   ],
   "source": [
    "numeric_dict1_ser/1000"
   ]
  },
  {
   "cell_type": "markdown",
   "id": "f662c2ce",
   "metadata": {},
   "source": [
    "the pandas is smart enough to do the broad casting operation, but it's not smart enough to add to different sereis with different\n",
    "labels, it'll just show the NAN  value instead of actual value"
   ]
  },
  {
   "cell_type": "code",
   "execution_count": 46,
   "id": "fe5b1487",
   "metadata": {},
   "outputs": [
    {
     "data": {
      "text/plain": [
       "area                          NaN\n",
       "area_sq_km                    NaN\n",
       "gdp                  1.150000e+11\n",
       "happiness_index      1.430000e+01\n",
       "population           1.500000e+06\n",
       "unemployment_rate    1.350000e+01\n",
       "dtype: float64"
      ]
     },
     "execution_count": 46,
     "metadata": {},
     "output_type": "execute_result"
    }
   ],
   "source": [
    "numeric_dict1_ser + numeric_dict2_ser"
   ]
  },
  {
   "cell_type": "markdown",
   "id": "ec43cf3d",
   "metadata": {},
   "source": [
    "to overcome this , we  use the .add() method, it will help us to fill the NAN value with something else,"
   ]
  },
  {
   "cell_type": "code",
   "execution_count": 48,
   "id": "e87f9c36",
   "metadata": {},
   "outputs": [
    {
     "data": {
      "text/plain": [
       "area                 5.000000e+03\n",
       "area_sq_km           2.500000e+03\n",
       "gdp                  1.150000e+11\n",
       "happiness_index      1.430000e+01\n",
       "population           1.500000e+06\n",
       "unemployment_rate    1.350000e+01\n",
       "dtype: float64"
      ]
     },
     "execution_count": 48,
     "metadata": {},
     "output_type": "execute_result"
    }
   ],
   "source": [
    "numeric_dict1_ser.add(numeric_dict2_ser, fill_value = 0)"
   ]
  },
  {
   "cell_type": "code",
   "execution_count": null,
   "id": "188c3998",
   "metadata": {},
   "outputs": [],
   "source": []
  }
 ],
 "metadata": {
  "kernelspec": {
   "display_name": "Python 3 (ipykernel)",
   "language": "python",
   "name": "python3"
  },
  "language_info": {
   "codemirror_mode": {
    "name": "ipython",
    "version": 3
   },
   "file_extension": ".py",
   "mimetype": "text/x-python",
   "name": "python",
   "nbconvert_exporter": "python",
   "pygments_lexer": "ipython3",
   "version": "3.11.3"
  }
 },
 "nbformat": 4,
 "nbformat_minor": 5
}
